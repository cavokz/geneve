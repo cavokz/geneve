{
 "cells": [
  {
   "cell_type": "markdown",
   "id": "3267aeeb",
   "metadata": {},
   "source": [
    "[![Binder](https://mybinder.org/badge_logo.svg)](https://mybinder.org/v2/gh/cavokz/detection-rules/emit-events?labpath=docs/signals_generation_walk-through.ipynb)"
   ]
  },
  {
   "cell_type": "markdown",
   "id": "813e2182",
   "metadata": {},
   "source": [
    "# Rule-based signals generation walk-through\n",
    "\n",
    "## Preliminaries\n",
    "\n",
    "The API for generating source events is provided by module `detection_rules.events_emitter`, the `SourceEvents` class provides the front-end for the most common uses.\n",
    "\n",
    "You can access an interactive version of this document by clicking on the \"launch binder\" badge above. You will be able to edit the `In [ ]` cells below by clicking in the grey area and executing them by pressing `Ctrl+Enter`.\n",
    "\n",
    "Here are the module imports needed for the rest of this notebook."
   ]
  },
  {
   "cell_type": "code",
   "execution_count": 1,
   "id": "b99e3b39",
   "metadata": {},
   "outputs": [],
   "source": [
    "import os; os.chdir('..')  # use the repo's root as base for importing local modules\n",
    "from detection_rules.events_emitter import SourceEvents\n",
    "from detection_rules.rule_loader import RuleCollection\n",
    "from itertools import islice\n",
    "from pathlib import Path"
   ]
  },
  {
   "cell_type": "markdown",
   "id": "8f0bfedc",
   "metadata": {},
   "source": [
    "## Generate documents from queries\n",
    "\n",
    "In the simplest form, documents can be generated as follows:"
   ]
  },
  {
   "cell_type": "code",
   "execution_count": 2,
   "id": "64c04a1e",
   "metadata": {},
   "outputs": [
    {
     "data": {
      "text/plain": [
       "[{'process': {'name': 'fx.exe'}, '@timestamp': 1645549759774}]"
      ]
     },
     "execution_count": 2,
     "metadata": {},
     "output_type": "execute_result"
    }
   ],
   "source": [
    "next(SourceEvents.from_query('process.name : *.exe'))"
   ]
  },
  {
   "cell_type": "markdown",
   "id": "0285c889",
   "metadata": {},
   "source": [
    "Which is equivalent to"
   ]
  },
  {
   "cell_type": "code",
   "execution_count": 3,
   "id": "5211efa3",
   "metadata": {},
   "outputs": [
    {
     "data": {
      "text/plain": [
       "[{'process': {'name': 'apbbtpkmwgptgjk.exe'}, '@timestamp': 1645549759783}]"
      ]
     },
     "execution_count": 3,
     "metadata": {},
     "output_type": "execute_result"
    }
   ],
   "source": [
    "se = SourceEvents()\n",
    "se.add_query('process.name : *.exe')\n",
    "next(se)"
   ]
  },
  {
   "cell_type": "markdown",
   "id": "8acc87aa",
   "metadata": {
    "slideshow": {
     "slide_type": "slide"
    }
   },
   "source": [
    "In this second form, multiple queries can be added and the generated documents shall match either of them:"
   ]
  },
  {
   "cell_type": "code",
   "execution_count": 4,
   "id": "df5ff1a8",
   "metadata": {},
   "outputs": [
    {
     "data": {
      "text/plain": [
       "[{'source': {'ip': '10.63.97.9'}, '@timestamp': 1645549759791}]"
      ]
     },
     "execution_count": 4,
     "metadata": {},
     "output_type": "execute_result"
    }
   ],
   "source": [
    "se = SourceEvents()\n",
    "se.add_query('process.name : *.exe')\n",
    "se.add_query('source.ip : 10.0.0.0/8')\n",
    "next(se)"
   ]
  },
  {
   "cell_type": "markdown",
   "id": "56b7fdaf",
   "metadata": {},
   "source": [
    "The query language is guessed automatically. While the above are Kuery based, what follows uses EQL"
   ]
  },
  {
   "cell_type": "code",
   "execution_count": 5,
   "id": "7df95cc7",
   "metadata": {},
   "outputs": [
    {
     "data": {
      "text/plain": [
       "[{'process': {'name': 'ysxaf.exe'},\n",
       "  'event': {'category': ['process']},\n",
       "  '@timestamp': 1645549759802}]"
      ]
     },
     "execution_count": 5,
     "metadata": {},
     "output_type": "execute_result"
    }
   ],
   "source": [
    "se = SourceEvents()\n",
    "se.add_query('process where process.name : \"*.exe\"')\n",
    "next(se)"
   ]
  },
  {
   "cell_type": "markdown",
   "id": "d09b6fa4",
   "metadata": {},
   "source": [
    "Currently only Kuery and EQL are supported though others can be added."
   ]
  },
  {
   "cell_type": "markdown",
   "id": "eb3dfa0c",
   "metadata": {},
   "source": [
    "## Generate documents from rules\n",
    "\n",
    "Similarily to the query cases, it's possible to generate documents from one or more rules."
   ]
  },
  {
   "cell_type": "code",
   "execution_count": 6,
   "id": "d36a18ca",
   "metadata": {},
   "outputs": [
    {
     "data": {
      "text/plain": [
       "[{'event': {'category': ['network']},\n",
       "  'network': {'transport': 'tcp'},\n",
       "  'destination': {'port': 26},\n",
       "  '@timestamp': 1645549760032}]"
      ]
     },
     "execution_count": 6,
     "metadata": {},
     "output_type": "execute_result"
    }
   ],
   "source": [
    "rules = RuleCollection()\n",
    "rules.load_file(Path(\"rules/network/command_and_control_port_26_activity.toml\"))\n",
    "rules.load_file(Path(\"rules/network/command_and_control_telnet_port_activity.toml\"))\n",
    "\n",
    "se = SourceEvents()\n",
    "for rule in rules:\n",
    "    se.add_rule(rule)\n",
    "\n",
    "next(se)"
   ]
  },
  {
   "cell_type": "markdown",
   "id": "1c95cfcc",
   "metadata": {},
   "source": [
    "## Generate documents over and over\n",
    "\n",
    "Adding queries and rules to a `SourceEvents` object triggers some operations like parsing the query, collecting the field constraints, trying to generate documents for the first time.\n",
    "\n",
    "When it's important to avoid unnecessary computations, the result of such initial operations can be reused by preserving the `SourceEvents` object between the calls to `next`."
   ]
  },
  {
   "cell_type": "code",
   "execution_count": 7,
   "id": "471d7196",
   "metadata": {},
   "outputs": [
    {
     "data": {
      "text/plain": [
       "[[{'process': {'name': 'yumkaujvfp.exe'}, '@timestamp': 1645549760043}],\n",
       " [{'process': {'name': 't.exe'}, '@timestamp': 1645549760043}],\n",
       " [{'process': {'name': 'fwdovovtnqsdtva.dll'}, '@timestamp': 1645549760043}],\n",
       " [{'process': {'name': 'xybraswwvlc.dll'}, '@timestamp': 1645549760044}],\n",
       " [{'process': {'name': 'rym.dll'}, '@timestamp': 1645549760044}]]"
      ]
     },
     "execution_count": 7,
     "metadata": {},
     "output_type": "execute_result"
    }
   ],
   "source": [
    "se = SourceEvents.from_query('process.name : (*.exe or *.dll)')\n",
    "\n",
    "[next(se) for n in range(5)]"
   ]
  },
  {
   "cell_type": "markdown",
   "id": "163376b2",
   "metadata": {},
   "source": [
    "## Schema used for the generation\n",
    "\n",
    "By default the documents are generated according to the most recent version of ECS available in `detetion_rules`. Any field not defined in ECS is assumed to be of type `keyword`."
   ]
  },
  {
   "cell_type": "code",
   "execution_count": 8,
   "id": "d1cb260e",
   "metadata": {},
   "outputs": [
    {
     "data": {
      "text/plain": [
       "'1.12.1'"
      ]
     },
     "execution_count": 8,
     "metadata": {},
     "output_type": "execute_result"
    }
   ],
   "source": [
    "SourceEvents.ecs_version"
   ]
  },
  {
   "cell_type": "markdown",
   "id": "ad265789",
   "metadata": {},
   "source": [
    "For non-ECS non-keyword fields, the `custom_schema` class attribute is available and is merged with the ECS schema when the `SourceEvents` object is created. Modifying such attribute affects only newly created objects and none of the existing.\n",
    "\n",
    "The default value of `custom_schema` is chosen for testing purposes so to satisfy as many detection rules as possible."
   ]
  },
  {
   "cell_type": "code",
   "execution_count": 9,
   "id": "6246e07e",
   "metadata": {},
   "outputs": [
    {
     "data": {
      "text/plain": [
       "{'file.Ext.windows.zone_identifier': {'type': 'long'},\n",
       " 'process.parent.Ext.real.pid': {'type': 'long'}}"
      ]
     },
     "execution_count": 9,
     "metadata": {},
     "output_type": "execute_result"
    }
   ],
   "source": [
    "SourceEvents.custom_schema"
   ]
  },
  {
   "cell_type": "markdown",
   "id": "c9c4befb",
   "metadata": {},
   "source": [
    "It's also possible to completely override the schema by passing one at creation time"
   ]
  },
  {
   "cell_type": "code",
   "execution_count": 10,
   "id": "e1b62866",
   "metadata": {},
   "outputs": [
    {
     "data": {
      "text/plain": [
       "[{'x': 39, '@timestamp': 1645549760065}]"
      ]
     },
     "execution_count": 10,
     "metadata": {},
     "output_type": "execute_result"
    }
   ],
   "source": [
    "se = SourceEvents(schema={\"x\": {\"type\": \"long\"}})\n",
    "se.add_query('x > 0 and x < 100')\n",
    "next(se)"
   ]
  },
  {
   "cell_type": "markdown",
   "id": "f1973fc1",
   "metadata": {
    "slideshow": {
     "slide_type": "fragment"
    }
   },
   "source": [
    "## Mappings of the generated documents\n",
    "\n",
    "The `SourceEvents` object can build mappings describing all the fields used in the loaded queries and rules. For this task it's employed the same schema used for the documents generation."
   ]
  },
  {
   "cell_type": "code",
   "execution_count": 18,
   "id": "9084932b",
   "metadata": {
    "scrolled": true
   },
   "outputs": [
    {
     "data": {
      "text/plain": [
       "[{'event': {'category': ['network_traffic']},\n",
       "  'network': {'transport': 'tcp'},\n",
       "  'destination': {'port': 23},\n",
       "  '@timestamp': 1645550673085}]"
      ]
     },
     "execution_count": 18,
     "metadata": {},
     "output_type": "execute_result"
    }
   ],
   "source": [
    "rules = RuleCollection()\n",
    "rules.load_file(Path(\"rules/network/command_and_control_port_26_activity.toml\"))\n",
    "rules.load_file(Path(\"rules/network/command_and_control_telnet_port_activity.toml\"))\n",
    "\n",
    "se = SourceEvents()\n",
    "for rule in rules:\n",
    "    se.add_rule(rule)\n",
    "\n",
    "next(se)"
   ]
  },
  {
   "cell_type": "markdown",
   "id": "a13b6ef3",
   "metadata": {},
   "source": [
    "## Query validation"
   ]
  },
  {
   "cell_type": "code",
   "execution_count": 36,
   "id": "0acb36c1",
   "metadata": {},
   "outputs": [
    {
     "name": "stdout",
     "output_type": "stream",
     "text": [
      "Unsolvable constraints: destination.port (empty solution space, 1025 <= x <= 1023)\n"
     ]
    }
   ],
   "source": [
    "try:\n",
    "    SourceEvents.from_query('destination.port < 1024 and (destination.port > 512 or destination.port > 1024)')\n",
    "except Exception as e:\n",
    "    print(e)"
   ]
  },
  {
   "cell_type": "markdown",
   "id": "437ee16e",
   "metadata": {},
   "source": [
    "## Using as iterator\n",
    "\n",
    "The `SourceEvents` class implements the iterator protocol, as the usage of `next` for generating new documents anticipated. Because documents can be generated indefinitely, the iterator is infinite and therefore some care is needed.\n",
    "\n",
    "Uses like `list(se)` or `for docs in se: print(docs)` are troublesome, the first would sooner or later exhaust all the resources, the second would never terminate spontaneously. You then need to ask yourself how many documents you want or what other condition you want to break your loop on.\n",
    "\n",
    "As example, this prints 10 documents:"
   ]
  },
  {
   "cell_type": "code",
   "execution_count": 37,
   "id": "40b51f95",
   "metadata": {},
   "outputs": [
    {
     "name": "stdout",
     "output_type": "stream",
     "text": [
      "[{'process': {'name': 'see.exe'}, '@timestamp': 1645553255814}]\n",
      "[{'process': {'name': 'bsougqsdhdw.dll'}, '@timestamp': 1645553255814}]\n",
      "[{'process': {'name': 'z.dll'}, '@timestamp': 1645553255814}]\n",
      "[{'process': {'name': 'ghzvahxmimxy.exe'}, '@timestamp': 1645553255814}]\n",
      "[{'process': {'name': 'rdnsdccjprmlo.exe'}, '@timestamp': 1645553255814}]\n",
      "[{'process': {'name': 'fwxxlane.exe'}, '@timestamp': 1645553255815}]\n",
      "[{'process': {'name': 'l.exe'}, '@timestamp': 1645553255815}]\n",
      "[{'process': {'name': 'kc.exe'}, '@timestamp': 1645553255815}]\n",
      "[{'process': {'name': 'spfzowndforx.dll'}, '@timestamp': 1645553255815}]\n",
      "[{'process': {'name': 'ftjkltrsj.exe'}, '@timestamp': 1645553255815}]\n"
     ]
    }
   ],
   "source": [
    "se = SourceEvents.from_query('process.name : (*.exe or *.dll)')\n",
    "\n",
    "for docs in islice(se, 10):\n",
    "    print(docs)"
   ]
  }
 ],
 "metadata": {
  "kernelspec": {
   "display_name": "Python 3 (ipykernel)",
   "language": "python",
   "name": "python3"
  },
  "language_info": {
   "codemirror_mode": {
    "name": "ipython",
    "version": 3
   },
   "file_extension": ".py",
   "mimetype": "text/x-python",
   "name": "python",
   "nbconvert_exporter": "python",
   "pygments_lexer": "ipython3",
   "version": "3.9.10"
  }
 },
 "nbformat": 4,
 "nbformat_minor": 5
}
