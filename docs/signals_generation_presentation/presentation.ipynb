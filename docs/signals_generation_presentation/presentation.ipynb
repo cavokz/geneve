{
 "cells": [
  {
   "cell_type": "markdown",
   "id": "cffbc197",
   "metadata": {
    "slideshow": {
     "slide_type": "slide"
    }
   },
   "source": [
    "# "
   ]
  },
  {
   "cell_type": "markdown",
   "id": "5b00553f",
   "metadata": {
    "slideshow": {
     "slide_type": "-"
    }
   },
   "source": [
    "# "
   ]
  },
  {
   "cell_type": "markdown",
   "id": "ec3b1d2c",
   "metadata": {
    "slideshow": {
     "slide_type": "-"
    }
   },
   "source": [
    "<img src=\"images/Elastic.png\" style=\"height: 80px\"/>\n",
    "\n",
    "# Security Solution\n",
    "### Rule-based signals generation\n",
    "###### Domenico Andreoli\n",
    "###### Security Engineering Productivity"
   ]
  },
  {
   "cell_type": "markdown",
   "id": "503a69b8",
   "metadata": {
    "slideshow": {
     "slide_type": "subslide"
    }
   },
   "source": [
    "## Hacking page"
   ]
  },
  {
   "cell_type": "code",
   "execution_count": 1,
   "id": "103dcd91",
   "metadata": {
    "slideshow": {
     "slide_type": "-"
    }
   },
   "outputs": [
    {
     "data": {
      "application/javascript": [
       "$(\"#notebook\").attr(\"data-background-transition\", \"none\")\n",
       "$(\".backgrounds\").css(\"display\", \"block\")\n"
      ],
      "text/plain": [
       "<IPython.core.display.Javascript object>"
      ]
     },
     "metadata": {},
     "output_type": "display_data"
    }
   ],
   "source": [
    "%%javascript\n",
    "$(\"#notebook\").attr(\"data-background-transition\", \"none\")\n",
    "$(\".backgrounds\").css(\"display\", \"block\")"
   ]
  },
  {
   "cell_type": "code",
   "execution_count": 2,
   "id": "1e7c94a3",
   "metadata": {
    "slideshow": {
     "slide_type": "skip"
    }
   },
   "outputs": [],
   "source": [
    "from presentation import *"
   ]
  },
  {
   "cell_type": "markdown",
   "id": "f2f54172",
   "metadata": {
    "slideshow": {
     "slide_type": "slide"
    }
   },
   "source": [
    "## Where does it come from?\n",
    "\n",
    "&#129514; Test: rules had to work also with documents on a remote cluster (CCS)\n",
    "\n",
    "&#9989; Plenty of rules available\n",
    "\n",
    "&#9989; Detection engine\n",
    "\n",
    "&#10060; What documents?\n"
   ]
  },
  {
   "cell_type": "markdown",
   "id": "4bbccec1",
   "metadata": {
    "slideshow": {
     "slide_type": "fragment"
    }
   },
   "source": [
    "* generate from beats\n",
    "* copy from cluster\n",
    "* reuse from other tests\n",
    "* write manually"
   ]
  },
  {
   "cell_type": "markdown",
   "id": "1029687f",
   "metadata": {
    "slideshow": {
     "slide_type": "slide"
    }
   },
   "source": [
    "## There must be a way...\n",
    "\n",
    "* A rule is a wrapper around a query\n",
    "* A query already _tells_ what it wants\n",
    "\n",
    "\\\n",
    "&#128073; `process where process.name == \"cmd.exe\"`\n",
    "\n",
    "just wants a document with field `process.name` containing `cmd.exe`\n",
    "\n",
    "\\\n",
    "Can't we automate this process? Yes!*"
   ]
  },
  {
   "cell_type": "markdown",
   "id": "cd323c7b",
   "metadata": {
    "slideshow": {
     "slide_type": "fragment"
    }
   },
   "source": [
    "<small>\\* sometimes</small>"
   ]
  },
  {
   "cell_type": "code",
   "execution_count": 3,
   "id": "13cb0cd8",
   "metadata": {
    "slideshow": {
     "slide_type": "subslide"
    }
   },
   "outputs": [],
   "source": [
    "import eql\n",
    "from IPython.display import display\n",
    "from detection_rules.events_emitter import SourceEvents, guess_from_query\n",
    "from detection_rules.ast_dag import draw_ast\n",
    "\n",
    "def parse(query, draw=False):\n",
    "    try:\n",
    "        ast = guess_from_query(query).ast\n",
    "        if draw:\n",
    "            display(draw_ast(ast), ast)\n",
    "        else:\n",
    "            return ast\n",
    "    except Exception as e:\n",
    "        print(e)\n",
    "\n",
    "def emit(query, timestamp=False, draw=False):\n",
    "    try:\n",
    "        ast = parse(query)\n",
    "        docs = SourceEvents.from_ast(ast).emit(complete=True, timestamp=timestamp)\n",
    "        if draw:\n",
    "            display(draw_ast(ast), docs)\n",
    "        else:\n",
    "            return docs\n",
    "    except Exception as e:\n",
    "        print(e)\n"
   ]
  },
  {
   "cell_type": "code",
   "execution_count": 4,
   "id": "d2ed2983",
   "metadata": {
    "slideshow": {
     "slide_type": "subslide"
    }
   },
   "outputs": [],
   "source": [
    "def draw(query):\n",
    "    try:\n",
    "        with eql.parser.elasticsearch_syntax:\n",
    "            ast = eql.parse_query(query)\n",
    "        return draw_ast(ast)\n",
    "    except Exception as e:\n",
    "        print(e)"
   ]
  },
  {
   "cell_type": "markdown",
   "id": "7cc46b32",
   "metadata": {
    "slideshow": {
     "slide_type": "slide"
    }
   },
   "source": [
    "## EQL examples"
   ]
  },
  {
   "cell_type": "code",
   "execution_count": 5,
   "id": "8b9687de",
   "metadata": {
    "slideshow": {
     "slide_type": "-"
    }
   },
   "outputs": [
    {
     "data": {
      "text/plain": [
       "[[{'process': {'name': 'myodbkjv.bat'}, 'event': {'category': ['process']}}]]"
      ]
     },
     "execution_count": 5,
     "metadata": {},
     "output_type": "execute_result"
    }
   ],
   "source": [
    "emit('''\n",
    "    process where process.name : (\"*.EXE\", \"*.DLL\", \"*.BAT\")\n",
    "''')"
   ]
  },
  {
   "cell_type": "code",
   "execution_count": 6,
   "id": "334bbdf9",
   "metadata": {},
   "outputs": [
    {
     "data": {
      "text/plain": [
       "[[{'destination': {'ip': '10.230.114.33'},\n",
       "   'event': {'category': ['network']},\n",
       "   '@timestamp': 1645724116270}]]"
      ]
     },
     "execution_count": 6,
     "metadata": {},
     "output_type": "execute_result"
    }
   ],
   "source": [
    "emit('''\n",
    "    network where cidrMatch(destination.ip, \"10.0.0.0/8\", \"192.168.0.0/24\")\n",
    "''', timestamp=True)"
   ]
  },
  {
   "cell_type": "code",
   "execution_count": 7,
   "id": "fed5ebeb",
   "metadata": {},
   "outputs": [
    {
     "data": {
      "text/plain": [
       "[[{'process': {'name': 'mpf.exe'},\n",
       "   'event': {'category': ['process']},\n",
       "   'user': {'id': 'DEP'}},\n",
       "  {'process': {'name': 'regedit.exe', 'parent': {'name': 'mpf.exe'}},\n",
       "   'event': {'category': ['process']},\n",
       "   'user': {'id': 'DEP'}}]]"
      ]
     },
     "execution_count": 7,
     "metadata": {},
     "output_type": "execute_result"
    }
   ],
   "source": [
    "emit('''\n",
    "    sequence by user.id\n",
    "      [process where process.name : (\"*.exe\")] by process.name\n",
    "      [process where process.name : \"regedit.exe\"] by process.parent.name\n",
    "''')"
   ]
  },
  {
   "cell_type": "markdown",
   "id": "b201cbef",
   "metadata": {
    "slideshow": {
     "slide_type": "slide"
    }
   },
   "source": [
    "## How it works?\n",
    "\n",
    "These are the high level steps:\n",
    "\n",
    "1. The query is parsed, an AST is generated\n",
    "2. The fields constraints are collected from the AST\n",
    "3. The constraint problems are solved, if possible\n",
    "4. Field-value pairs are translated to a document"
   ]
  },
  {
   "cell_type": "markdown",
   "id": "b4e97aa1",
   "metadata": {
    "slideshow": {
     "slide_type": "slide"
    }
   },
   "source": [
    "## Query is parsed"
   ]
  },
  {
   "cell_type": "code",
   "execution_count": 8,
   "id": "9d56a42b",
   "metadata": {},
   "outputs": [
    {
     "data": {
      "image/svg+xml": [
       "<?xml version=\"1.0\" encoding=\"UTF-8\" standalone=\"no\"?>\n",
       "<!DOCTYPE svg PUBLIC \"-//W3C//DTD SVG 1.1//EN\"\n",
       " \"http://www.w3.org/Graphics/SVG/1.1/DTD/svg11.dtd\">\n",
       "<!-- Generated by graphviz version 2.50.0 (20211204.2007)\n",
       " -->\n",
       "<!-- Pages: 1 -->\n",
       "<svg width=\"374pt\" height=\"188pt\"\n",
       " viewBox=\"0.00 0.00 373.64 188.00\" xmlns=\"http://www.w3.org/2000/svg\" xmlns:xlink=\"http://www.w3.org/1999/xlink\">\n",
       "<g id=\"graph0\" class=\"graph\" transform=\"scale(1 1) rotate(0) translate(4 184)\">\n",
       "<polygon fill=\"white\" stroke=\"transparent\" points=\"-4,4 -4,-184 369.64,-184 369.64,4 -4,4\"/>\n",
       "<!-- 11fbf4a4673250c254f087ef630fe220 -->\n",
       "<g id=\"node1\" class=\"node\">\n",
       "<title>11fbf4a4673250c254f087ef630fe220</title>\n",
       "<ellipse fill=\"none\" stroke=\"black\" cx=\"192.05\" cy=\"-162\" rx=\"27\" ry=\"18\"/>\n",
       "<text text-anchor=\"middle\" x=\"192.05\" y=\"-158.3\" font-family=\"Times,serif\" font-size=\"14.00\">or</text>\n",
       "</g>\n",
       "<!-- dbc24063cd1a5cd798cbcd5eff3a1d7e -->\n",
       "<g id=\"node2\" class=\"node\">\n",
       "<title>dbc24063cd1a5cd798cbcd5eff3a1d7e</title>\n",
       "<ellipse fill=\"none\" stroke=\"black\" cx=\"145.05\" cy=\"-90\" rx=\"27\" ry=\"18\"/>\n",
       "<text text-anchor=\"middle\" x=\"145.05\" y=\"-86.3\" font-family=\"Times,serif\" font-size=\"14.00\">&gt;</text>\n",
       "</g>\n",
       "<!-- 11fbf4a4673250c254f087ef630fe220&#45;&gt;dbc24063cd1a5cd798cbcd5eff3a1d7e -->\n",
       "<g id=\"edge3\" class=\"edge\">\n",
       "<title>11fbf4a4673250c254f087ef630fe220&#45;&gt;dbc24063cd1a5cd798cbcd5eff3a1d7e</title>\n",
       "<path fill=\"none\" stroke=\"red\" d=\"M181.38,-145.12C175.49,-136.34 168.05,-125.26 161.44,-115.42\"/>\n",
       "<polygon fill=\"red\" stroke=\"red\" points=\"164.15,-113.17 155.67,-106.82 158.34,-117.07 164.15,-113.17\"/>\n",
       "</g>\n",
       "<!-- 459ac9100341715ab1f67a65b9a466d4 -->\n",
       "<g id=\"node5\" class=\"node\">\n",
       "<title>459ac9100341715ab1f67a65b9a466d4</title>\n",
       "<ellipse fill=\"none\" stroke=\"black\" cx=\"240.05\" cy=\"-90\" rx=\"27\" ry=\"18\"/>\n",
       "<text text-anchor=\"middle\" x=\"240.05\" y=\"-86.3\" font-family=\"Times,serif\" font-size=\"14.00\">&lt;</text>\n",
       "</g>\n",
       "<!-- 11fbf4a4673250c254f087ef630fe220&#45;&gt;459ac9100341715ab1f67a65b9a466d4 -->\n",
       "<g id=\"edge6\" class=\"edge\">\n",
       "<title>11fbf4a4673250c254f087ef630fe220&#45;&gt;459ac9100341715ab1f67a65b9a466d4</title>\n",
       "<path fill=\"none\" stroke=\"blue\" d=\"M202.94,-145.12C209.01,-136.26 216.71,-125.04 223.51,-115.12\"/>\n",
       "<polygon fill=\"blue\" stroke=\"blue\" points=\"226.43,-117.05 229.2,-106.82 220.65,-113.09 226.43,-117.05\"/>\n",
       "</g>\n",
       "<!-- e577eef12e6cc2a0e6f118711d43b6ef -->\n",
       "<g id=\"node3\" class=\"node\">\n",
       "<title>e577eef12e6cc2a0e6f118711d43b6ef</title>\n",
       "<ellipse fill=\"none\" stroke=\"black\" cx=\"50.05\" cy=\"-18\" rx=\"50.09\" ry=\"18\"/>\n",
       "<text text-anchor=\"middle\" x=\"50.05\" y=\"-14.3\" font-family=\"Times,serif\" font-size=\"14.00\">source.port</text>\n",
       "</g>\n",
       "<!-- dbc24063cd1a5cd798cbcd5eff3a1d7e&#45;&gt;e577eef12e6cc2a0e6f118711d43b6ef -->\n",
       "<g id=\"edge1\" class=\"edge\">\n",
       "<title>dbc24063cd1a5cd798cbcd5eff3a1d7e&#45;&gt;e577eef12e6cc2a0e6f118711d43b6ef</title>\n",
       "<path fill=\"none\" stroke=\"red\" d=\"M127.62,-76.16C114.15,-66.24 95.2,-52.27 79.41,-40.63\"/>\n",
       "<polygon fill=\"red\" stroke=\"red\" points=\"81.13,-37.56 71.01,-34.45 76.98,-43.2 81.13,-37.56\"/>\n",
       "</g>\n",
       "<!-- 742e0bb64911fb88d214014a5d562103 -->\n",
       "<g id=\"node4\" class=\"node\">\n",
       "<title>742e0bb64911fb88d214014a5d562103</title>\n",
       "<ellipse fill=\"none\" stroke=\"black\" cx=\"145.05\" cy=\"-18\" rx=\"27\" ry=\"18\"/>\n",
       "<text text-anchor=\"middle\" x=\"145.05\" y=\"-14.3\" font-family=\"Times,serif\" font-size=\"14.00\">512</text>\n",
       "</g>\n",
       "<!-- dbc24063cd1a5cd798cbcd5eff3a1d7e&#45;&gt;742e0bb64911fb88d214014a5d562103 -->\n",
       "<g id=\"edge2\" class=\"edge\">\n",
       "<title>dbc24063cd1a5cd798cbcd5eff3a1d7e&#45;&gt;742e0bb64911fb88d214014a5d562103</title>\n",
       "<path fill=\"none\" stroke=\"red\" d=\"M145.05,-71.7C145.05,-63.98 145.05,-54.71 145.05,-46.11\"/>\n",
       "<polygon fill=\"red\" stroke=\"red\" points=\"148.55,-46.1 145.05,-36.1 141.55,-46.1 148.55,-46.1\"/>\n",
       "</g>\n",
       "<!-- 700ea5f5ee0182216fa6c8068e7a4ec8 -->\n",
       "<g id=\"node6\" class=\"node\">\n",
       "<title>700ea5f5ee0182216fa6c8068e7a4ec8</title>\n",
       "<ellipse fill=\"none\" stroke=\"black\" cx=\"240.05\" cy=\"-18\" rx=\"50.09\" ry=\"18\"/>\n",
       "<text text-anchor=\"middle\" x=\"240.05\" y=\"-14.3\" font-family=\"Times,serif\" font-size=\"14.00\">source.port</text>\n",
       "</g>\n",
       "<!-- 459ac9100341715ab1f67a65b9a466d4&#45;&gt;700ea5f5ee0182216fa6c8068e7a4ec8 -->\n",
       "<g id=\"edge4\" class=\"edge\">\n",
       "<title>459ac9100341715ab1f67a65b9a466d4&#45;&gt;700ea5f5ee0182216fa6c8068e7a4ec8</title>\n",
       "<path fill=\"none\" stroke=\"blue\" d=\"M240.05,-71.7C240.05,-63.98 240.05,-54.71 240.05,-46.11\"/>\n",
       "<polygon fill=\"blue\" stroke=\"blue\" points=\"243.55,-46.1 240.05,-36.1 236.55,-46.1 243.55,-46.1\"/>\n",
       "</g>\n",
       "<!-- 722e101eb3d262e3ac0de283f2f989ef -->\n",
       "<g id=\"node7\" class=\"node\">\n",
       "<title>722e101eb3d262e3ac0de283f2f989ef</title>\n",
       "<ellipse fill=\"none\" stroke=\"black\" cx=\"337.05\" cy=\"-18\" rx=\"28.7\" ry=\"18\"/>\n",
       "<text text-anchor=\"middle\" x=\"337.05\" y=\"-14.3\" font-family=\"Times,serif\" font-size=\"14.00\">1024</text>\n",
       "</g>\n",
       "<!-- 459ac9100341715ab1f67a65b9a466d4&#45;&gt;722e101eb3d262e3ac0de283f2f989ef -->\n",
       "<g id=\"edge5\" class=\"edge\">\n",
       "<title>459ac9100341715ab1f67a65b9a466d4&#45;&gt;722e101eb3d262e3ac0de283f2f989ef</title>\n",
       "<path fill=\"none\" stroke=\"blue\" d=\"M257.84,-76.16C272.65,-65.47 293.95,-50.1 310.73,-37.99\"/>\n",
       "<polygon fill=\"blue\" stroke=\"blue\" points=\"312.98,-40.68 319.04,-31.99 308.88,-35.01 312.98,-40.68\"/>\n",
       "</g>\n",
       "</g>\n",
       "</svg>\n"
      ]
     },
     "metadata": {},
     "output_type": "display_data"
    },
    {
     "data": {
      "text/plain": [
       "PipedQuery(first=EventQuery(event_type='network', query=Or(terms=[Comparison(left=Field(base='source', path=['port']), comparator='>', right=Number(value=512)), Comparison(left=Field(base='source', path=['port']), comparator='<', right=Number(value=1024))])), pipes=[])"
      ]
     },
     "metadata": {},
     "output_type": "display_data"
    }
   ],
   "source": [
    "parse('''\n",
    "    network where source.port > 512 or source.port < 1024 \n",
    "''', draw=True)"
   ]
  },
  {
   "cell_type": "markdown",
   "id": "2871831b",
   "metadata": {
    "slideshow": {
     "slide_type": "slide"
    }
   },
   "source": [
    "## Constraints are collected"
   ]
  },
  {
   "cell_type": "code",
   "execution_count": 9,
   "id": "ced1425d",
   "metadata": {
    "slideshow": {
     "slide_type": "-"
    }
   },
   "outputs": [
    {
     "data": {
      "text/plain": [
       "[[{'source.port': [('>', 512, {}), ('<', 1024, {})], 'event.category': [('==', 'network', {})]}]]"
      ]
     },
     "execution_count": 9,
     "metadata": {},
     "output_type": "execute_result"
    }
   ],
   "source": [
    "ast = parse('''\n",
    "    network where source.port > 512 and source.port < 1024\n",
    "''')\n",
    "SourceEvents().add_ast(ast)"
   ]
  },
  {
   "cell_type": "code",
   "execution_count": 10,
   "id": "55bb0d6f",
   "metadata": {},
   "outputs": [
    {
     "data": {
      "text/plain": [
       "[[{'source.port': [('>', 512, {})], 'event.category': [('==', 'network', {})]}],\n",
       " [{'source.port': [('<', 1024, {})], 'event.category': [('==', 'network', {})]}]]"
      ]
     },
     "execution_count": 10,
     "metadata": {},
     "output_type": "execute_result"
    }
   ],
   "source": [
    "ast = parse('''\n",
    "    network where source.port > 512 or source.port < 1024\n",
    "''')\n",
    "SourceEvents().add_ast(ast)"
   ]
  },
  {
   "cell_type": "code",
   "execution_count": 11,
   "id": "244b41b4",
   "metadata": {},
   "outputs": [
    {
     "data": {
      "text/plain": [
       "[[{'process.name': [('wildcard', ('*.exe',), {}), ('join_value', ('process.name', {...}), {}), ('join_value', ('process.parent.name', {'process.name': [('wildcard', ('regedit.exe',), {})], 'event.category': [('==', 'process', {})], 'process.parent.name': [], 'user.id': []}), {})], 'event.category': [('==', 'process', {})], 'user.id': [('join_value', ('user.id', {...}), {}), ('join_value', ('user.id', {'process.name': [('wildcard', ('regedit.exe',), {})], 'event.category': [('==', 'process', {})], 'process.parent.name': [], 'user.id': []}), {})]},\n",
       "  {'process.name': [('wildcard', ('regedit.exe',), {})], 'event.category': [('==', 'process', {})], 'process.parent.name': [], 'user.id': []}]]"
      ]
     },
     "execution_count": 11,
     "metadata": {},
     "output_type": "execute_result"
    }
   ],
   "source": [
    "ast = parse('''\n",
    "    sequence by user.id\n",
    "      [process where process.name : (\"*.exe\")] by process.name\n",
    "      [process where process.name : \"regedit.exe\"] by process.parent.name\n",
    "''')\n",
    "SourceEvents().add_ast(ast)"
   ]
  },
  {
   "cell_type": "markdown",
   "id": "66f8ae95",
   "metadata": {
    "slideshow": {
     "slide_type": "slide"
    }
   },
   "source": [
    "## Constraints problems are solved"
   ]
  },
  {
   "cell_type": "code",
   "execution_count": 12,
   "id": "4f09211b",
   "metadata": {
    "scrolled": false,
    "slideshow": {
     "slide_type": "-"
    }
   },
   "outputs": [
    {
     "data": {
      "text/plain": [
       "[[('source.port', 955), ('event.category', ['network'])]]"
      ]
     },
     "execution_count": 12,
     "metadata": {},
     "output_type": "execute_result"
    }
   ],
   "source": [
    "ast = parse('''\n",
    "    network where source.port > 512 and source.port < 1024\n",
    "''')\n",
    "se = SourceEvents()\n",
    "[list(c.solve(se.schema)) for b in se.add_ast(ast) for c in b]"
   ]
  },
  {
   "cell_type": "code",
   "execution_count": 13,
   "id": "112f1877",
   "metadata": {},
   "outputs": [
    {
     "data": {
      "text/plain": [
       "[[('source.port', 3744), ('event.category', ['network'])],\n",
       " [('source.port', 752), ('event.category', ['network'])]]"
      ]
     },
     "execution_count": 13,
     "metadata": {},
     "output_type": "execute_result"
    }
   ],
   "source": [
    "ast = parse('''\n",
    "    network where source.port > 512 or source.port < 1024\n",
    "''')\n",
    "se = SourceEvents()\n",
    "[list(c.solve(se.schema)) for b in se.add_ast(ast) for c in b]"
   ]
  },
  {
   "cell_type": "code",
   "execution_count": 14,
   "id": "b05587e8",
   "metadata": {},
   "outputs": [
    {
     "data": {
      "text/plain": [
       "[[('process.name', 'bmueyvckvzvjust.dll'),\n",
       "  ('event.category', ['process']),\n",
       "  ('user.id', 'wYR')],\n",
       " [('process.name', 'regedit.exe'),\n",
       "  ('event.category', ['process']),\n",
       "  ('process.parent.name', 'bmueyvckvzvjust.dll'),\n",
       "  ('user.id', 'wYR')]]"
      ]
     },
     "execution_count": 14,
     "metadata": {},
     "output_type": "execute_result"
    }
   ],
   "source": [
    "ast = parse('''\n",
    "    sequence by user.id\n",
    "      [process where process.name : (\"*.exe\", \"*.dll\")] by process.name\n",
    "      [process where process.name : \"regedit.exe\"] by process.parent.name\n",
    "''')\n",
    "se = SourceEvents()\n",
    "[list(c.solve(se.schema)) for b in se.add_ast(ast) for c in b]"
   ]
  },
  {
   "cell_type": "markdown",
   "id": "05de6238",
   "metadata": {
    "slideshow": {
     "slide_type": "slide"
    }
   },
   "source": [
    "## Rules coverage\n",
    "\n",
    "* Total rules: 665\n",
    "  * Rules that get to the online tests: 529\n",
    "    * Working rules: 503\n",
    "    * Rules with too few signals: 1\n",
    "    * Rules with no signals: 25\n",
    "  * Rules that don't: 136\n",
    "    * Skipped: 71\n",
    "    * Generation errors: 65\n"
   ]
  }
 ],
 "metadata": {
  "celltoolbar": "Slideshow",
  "kernelspec": {
   "display_name": "Python 3 (ipykernel)",
   "language": "python",
   "name": "python3"
  },
  "language_info": {
   "codemirror_mode": {
    "name": "ipython",
    "version": 3
   },
   "file_extension": ".py",
   "mimetype": "text/x-python",
   "name": "python",
   "nbconvert_exporter": "python",
   "pygments_lexer": "ipython3",
   "version": "3.9.10"
  },
  "rise": {
   "auto_select": "code",
   "controls": false,
   "history": false,
   "progress": false,
   "slideNumber": false,
   "start_slideshow_at": "beginning",
   "transition": "fade"
  }
 },
 "nbformat": 4,
 "nbformat_minor": 5
}
